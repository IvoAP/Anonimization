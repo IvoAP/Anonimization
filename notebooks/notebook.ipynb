{
 "cells": [
  {
   "cell_type": "markdown",
   "metadata": {},
   "source": [
    "##### Import of libs"
   ]
  },
  {
   "cell_type": "code",
   "execution_count": 1,
   "metadata": {},
   "outputs": [],
   "source": [
    "# Instalation of the libs"
   ]
  },
  {
   "cell_type": "code",
   "execution_count": 10,
   "metadata": {},
   "outputs": [],
   "source": [
    "import pandas as pd\n",
    "import pandas as pd\n",
    "import seaborn as sns\n",
    "import matplotlib.pyplot as plt\n"
   ]
  },
  {
   "cell_type": "markdown",
   "metadata": {},
   "source": [
    "##### Load the result of the experiments"
   ]
  },
  {
   "cell_type": "code",
   "execution_count": 3,
   "metadata": {},
   "outputs": [],
   "source": [
    "dataset = pd.read_csv(\"../data/ddos_csv_100000.csv\")\n",
    "df_chi2 = pd.read_csv(\"../results/best_results_chi2.csv\")\n",
    "df_anova = pd.read_csv(\"../results/best_results_anova.csv\")\n",
    "df_extraTree = pd.read_csv(\"../results/best_results_extra_trees.csv\")\n",
    "df_mutualInfo = pd.read_csv(\"../results/best_results_mutual_info.csv\")"
   ]
  },
  {
   "cell_type": "markdown",
   "metadata": {},
   "source": [
    "#### Function that select the best row in each scenario"
   ]
  },
  {
   "cell_type": "code",
   "execution_count": 4,
   "metadata": {},
   "outputs": [],
   "source": [
    "def process_dataset_best_scenarios(df):\n",
    "    # Certificar que a coluna 'accuracy' está no formato numérico\n",
    "    df['accuracy'] = pd.to_numeric(df['accuracy'], errors='coerce')\n",
    "    \n",
    "    models = df['model'].unique()\n",
    "    scenarios = df[['anonymized_train', 'anonymized_test']].drop_duplicates()\n",
    "\n",
    "    best_results = []\n",
    "    \n",
    "    for model in models:\n",
    "        for _, scenario in scenarios.iterrows():\n",
    "            scenario_data = df[(df['model'] == model) & \n",
    "                               (df['anonymized_train'] == scenario['anonymized_train']) & \n",
    "                               (df['anonymized_test'] == scenario['anonymized_test'])]\n",
    "            best_row = scenario_data.nlargest(1, 'accuracy')\n",
    "            best_results.append(best_row)\n",
    "    \n",
    "    best_results_df = pd.concat(best_results)\n",
    "    return best_results_df"
   ]
  },
  {
   "cell_type": "code",
   "execution_count": 5,
   "metadata": {},
   "outputs": [],
   "source": [
    "df_chi2 = process_dataset_best_scenarios(df_chi2)\n",
    "df_anova = process_dataset_best_scenarios(df_anova)\n",
    "df_extraTree = process_dataset_best_scenarios(df_extraTree)\n",
    "df_mutualInfo = process_dataset_best_scenarios(df_mutualInfo)"
   ]
  },
  {
   "cell_type": "code",
   "execution_count": 6,
   "metadata": {},
   "outputs": [],
   "source": [
    "def concatenate_datasets(*dfs):\n",
    "    \"\"\"\n",
    "    Concatena múltiplos DataFrames em um único DataFrame.\n",
    "    \"\"\"\n",
    "    return pd.concat(dfs, ignore_index=True)"
   ]
  },
  {
   "cell_type": "code",
   "execution_count": 7,
   "metadata": {},
   "outputs": [],
   "source": [
    "df_combined = concatenate_datasets(df_chi2, df_anova, df_extraTree, df_mutualInfo)"
   ]
  },
  {
   "cell_type": "code",
   "execution_count": 30,
   "metadata": {},
   "outputs": [],
   "source": [
    "output_path = 'df_combined.csv'\n",
    "df_combined.to_csv(output_path, index=False)"
   ]
  }
 ],
 "metadata": {
  "kernelspec": {
   "display_name": "venv",
   "language": "python",
   "name": "python3"
  },
  "language_info": {
   "codemirror_mode": {
    "name": "ipython",
    "version": 3
   },
   "file_extension": ".py",
   "mimetype": "text/x-python",
   "name": "python",
   "nbconvert_exporter": "python",
   "pygments_lexer": "ipython3",
   "version": "3.11.1"
  }
 },
 "nbformat": 4,
 "nbformat_minor": 2
}
